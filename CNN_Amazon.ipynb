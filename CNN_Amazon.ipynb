{
  "cells": [
    {
      "cell_type": "code",
      "execution_count": 1,
      "metadata": {
        "id": "FSx9MuW1uVe8",
        "outputId": "71402eee-97bc-4e5a-f30b-2a149c125942",
        "colab": {
          "base_uri": "https://localhost:8080/"
        }
      },
      "outputs": [
        {
          "output_type": "stream",
          "name": "stderr",
          "text": [
            "[nltk_data] Downloading package stopwords to /root/nltk_data...\n",
            "[nltk_data]   Unzipping corpora/stopwords.zip.\n"
          ]
        }
      ],
      "source": [
        "import pandas as pd\n",
        "import numpy as np\n",
        "from tensorflow.keras.preprocessing.text import Tokenizer\n",
        "from tensorflow.keras.preprocessing.sequence import pad_sequences\n",
        "from tensorflow.keras.models import Sequential\n",
        "from tensorflow.keras.layers import Embedding, Conv1D, GlobalMaxPooling1D, Dense\n",
        "from tensorflow.keras.utils import to_categorical\n",
        "import nltk\n",
        "import re\n",
        "nltk.download('stopwords')\n",
        "from nltk.corpus import stopwords\n",
        "import string\n",
        "from nltk.stem import SnowballStemmer\n",
        "from sklearn.model_selection import train_test_split"
      ]
    },
    {
      "cell_type": "code",
      "execution_count": 3,
      "metadata": {
        "id": "iLp2a3FVub6S",
        "colab": {
          "base_uri": "https://localhost:8080/"
        },
        "outputId": "22b799ac-f039-4f07-f8c3-d730695ed2b2"
      },
      "outputs": [
        {
          "output_type": "stream",
          "name": "stdout",
          "text": [
            "Mounted at /content/drive\n"
          ]
        },
        {
          "output_type": "stream",
          "name": "stderr",
          "text": [
            "<ipython-input-3-0ec6ac3781cd>:5: FutureWarning: The error_bad_lines argument has been deprecated and will be removed in a future version. Use on_bad_lines in the future.\n",
            "\n",
            "\n",
            "  data = pd.read_csv('/content/drive/MyDrive/amazon_data_refined1.csv', error_bad_lines=False, low_memory=False)\n"
          ]
        }
      ],
      "source": [
        "from google.colab import drive\n",
        "drive.mount('/content/drive')\n",
        "\n",
        "# Load data from CSV\n",
        "data = pd.read_csv('/content/drive/MyDrive/amazon_data_refined1.csv', error_bad_lines=False, low_memory=False)\n",
        "\n",
        "# Data preprocessing\n",
        "stemmer = SnowballStemmer(\"english\")\n",
        "stopword = set(stopwords.words('english'))\n",
        "\n",
        "def clean(text):\n",
        "    text = str(text).lower()\n",
        "    text = re.sub('\\[.*?\\]', '', text)\n",
        "    text = re.sub('https?://\\S+|www\\.\\S+', '', text)\n",
        "    text = re.sub('<.*?>+', '', text)\n",
        "    text = re.sub('[%s]' % re.escape(string.punctuation), '', text)\n",
        "    text = re.sub('\\n', '', text)\n",
        "    text = re.sub('\\w*\\d\\w*', '', text)\n",
        "    text = [word for word in text.split(' ') if word not in stopword]\n",
        "    text = \" \".join(text)\n",
        "    text = [stemmer.stem(word) for word in text.split(' ')]\n",
        "    text = \" \".join(text)\n",
        "    return text\n",
        "\n",
        "data['Combined_Text'] = data['Reviews'].astype(str)\n",
        "text_data = data['Combined_Text'].apply(lambda x: str(x)).apply(clean)"
      ]
    },
    {
      "cell_type": "code",
      "execution_count": 4,
      "metadata": {
        "id": "mC9s4YaEufKe",
        "colab": {
          "base_uri": "https://localhost:8080/"
        },
        "outputId": "7f225579-1020-4d59-de15-135b4c1e7bf0"
      },
      "outputs": [
        {
          "output_type": "stream",
          "name": "stdout",
          "text": [
            "[2 2 2 ... 2 2 2]\n",
            "Epoch 1/5\n",
            "230/230 [==============================] - 49s 164ms/step - loss: 0.5300 - accuracy: 0.7932 - val_loss: 0.3269 - val_accuracy: 0.8857\n",
            "Epoch 2/5\n",
            "230/230 [==============================] - 16s 69ms/step - loss: 0.2229 - accuracy: 0.9287 - val_loss: 0.2723 - val_accuracy: 0.9154\n",
            "Epoch 3/5\n",
            "230/230 [==============================] - 8s 33ms/step - loss: 0.1261 - accuracy: 0.9627 - val_loss: 0.2535 - val_accuracy: 0.9246\n",
            "Epoch 4/5\n",
            "230/230 [==============================] - 8s 33ms/step - loss: 0.0742 - accuracy: 0.9814 - val_loss: 0.2657 - val_accuracy: 0.9295\n",
            "Epoch 5/5\n",
            "230/230 [==============================] - 5s 22ms/step - loss: 0.0495 - accuracy: 0.9874 - val_loss: 0.2792 - val_accuracy: 0.9287\n",
            "115/115 [==============================] - 0s 3ms/step - loss: 0.2792 - accuracy: 0.9287\n",
            "Test Loss: 0.27921703457832336\n",
            "Test Accuracy: 0.928726851940155\n"
          ]
        }
      ],
      "source": [
        "# Convert sentiment labels to numerical format\n",
        "label_mapping = {'Positive': 2, 'Neutral': 1, 'Negative': 0}\n",
        "data['Output'] = data['Output'].map(label_mapping)\n",
        "labels = data['Output'].values\n",
        "print(labels)\n",
        "# Tokenize text data\n",
        "max_words = 10000\n",
        "max_seq_length = 100\n",
        "tokenizer = Tokenizer(num_words=max_words)\n",
        "tokenizer.fit_on_texts(text_data)\n",
        "sequences = tokenizer.texts_to_sequences(text_data)\n",
        "X = pad_sequences(sequences, maxlen=max_seq_length)\n",
        "\n",
        "# Convert sentiment labels to one-hot encoding\n",
        "num_classes = 3\n",
        "y = to_categorical(labels, num_classes=num_classes)\n",
        "\n",
        "# Split the data into training and testing sets\n",
        "X_train, X_test, y_train, y_test = train_test_split(X, y, test_size=0.2, random_state=42)\n",
        "\n",
        "# Model architecture\n",
        "model = Sequential()\n",
        "model.add(Embedding(input_dim=max_words, output_dim=100, input_length=max_seq_length))\n",
        "model.add(Conv1D(128, 5, activation='relu'))\n",
        "model.add(GlobalMaxPooling1D())\n",
        "model.add(Dense(num_classes, activation='softmax'))\n",
        "\n",
        "# Compile the model\n",
        "model.compile(loss='categorical_crossentropy', optimizer='adam', metrics=['accuracy'])\n",
        "\n",
        "# Train the model\n",
        "model.fit(X_train, y_train, validation_data=(X_test, y_test), epochs=5, batch_size=64)\n",
        "\n",
        "# Evaluate the model on the test set\n",
        "loss, accuracy = model.evaluate(X_test, y_test)\n",
        "print(f\"Test Loss: {loss}\")\n",
        "print(f\"Test Accuracy: {accuracy}\")"
      ]
    },
    {
      "cell_type": "code",
      "execution_count": null,
      "metadata": {
        "id": "6QQDkNbleeCR"
      },
      "outputs": [],
      "source": []
    },
    {
      "cell_type": "code",
      "execution_count": null,
      "metadata": {
        "id": "yU4yAydoeeCR"
      },
      "outputs": [],
      "source": []
    }
  ],
  "metadata": {
    "colab": {
      "provenance": [],
      "gpuType": "T4"
    },
    "kernelspec": {
      "display_name": "Python 3",
      "name": "python3"
    },
    "language_info": {
      "codemirror_mode": {
        "name": "ipython",
        "version": 3
      },
      "file_extension": ".py",
      "mimetype": "text/x-python",
      "name": "python",
      "nbconvert_exporter": "python",
      "pygments_lexer": "ipython3",
      "version": "3.9.13"
    },
    "accelerator": "GPU"
  },
  "nbformat": 4,
  "nbformat_minor": 0
}