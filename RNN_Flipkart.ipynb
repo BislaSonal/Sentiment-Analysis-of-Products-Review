{
  "nbformat": 4,
  "nbformat_minor": 0,
  "metadata": {
    "colab": {
      "provenance": []
    },
    "kernelspec": {
      "name": "python3",
      "display_name": "Python 3"
    },
    "language_info": {
      "name": "python"
    }
  },
  "cells": [
    {
      "cell_type": "code",
      "execution_count": 3,
      "metadata": {
        "id": "0QotwCoGviQN",
        "colab": {
          "base_uri": "https://localhost:8080/"
        },
        "outputId": "6bef8f4a-7ce0-4397-c3d4-313237b94c34"
      },
      "outputs": [
        {
          "output_type": "stream",
          "name": "stderr",
          "text": [
            "[nltk_data] Downloading package stopwords to /root/nltk_data...\n",
            "[nltk_data]   Package stopwords is already up-to-date!\n"
          ]
        }
      ],
      "source": [
        "import pandas as pd\n",
        "import numpy as np\n",
        "from tensorflow.keras.preprocessing.text import Tokenizer\n",
        "from tensorflow.keras.preprocessing.sequence import pad_sequences\n",
        "from tensorflow.keras.models import Sequential\n",
        "from tensorflow.keras.layers import Embedding, SimpleRNN, Dense\n",
        "from tensorflow.keras.utils import to_categorical\n",
        "import nltk\n",
        "import re\n",
        "nltk.download('stopwords')\n",
        "from nltk.corpus import stopwords\n",
        "import string\n",
        "from nltk.stem import SnowballStemmer\n",
        "from sklearn.model_selection import train_test_split"
      ]
    },
    {
      "cell_type": "code",
      "source": [
        "from google.colab import drive\n",
        "drive.mount('/content/drive')\n",
        "\n",
        "# Load data from CSV\n",
        "data = pd.read_csv('/content/drive/MyDrive/flipkart_processed_output.csv', error_bad_lines=False, low_memory=False)\n",
        "\n",
        "# Data preprocessing\n",
        "stemmer = SnowballStemmer(\"english\")\n",
        "stopword = set(stopwords.words('english'))\n",
        "\n",
        "def clean(text):\n",
        "    text = str(text).lower()\n",
        "    text = re.sub('\\[.*?\\]', '', text)\n",
        "    text = re.sub('https?://\\S+|www\\.\\S+', '', text)\n",
        "    text = re.sub('<.*?>+', '', text)\n",
        "    text = re.sub('[%s]' % re.escape(string.punctuation), '', text)\n",
        "    text = re.sub('\\n', '', text)\n",
        "    text = re.sub('\\w*\\d\\w*', '', text)\n",
        "    text = [word for word in text.split(' ') if word not in stopword]\n",
        "    text = \" \".join(text)\n",
        "    text = [stemmer.stem(word) for word in text.split(' ')]\n",
        "    text = \" \".join(text)\n",
        "    return text\n",
        "\n",
        "data['Combined_Text'] = data['Review'] + ' ' + data['Summary'].astype(str)\n",
        "text_data = data['Combined_Text'].apply(lambda x: str(x)).apply(clean)"
      ],
      "metadata": {
        "id": "gUky0cc-voNR",
        "colab": {
          "base_uri": "https://localhost:8080/"
        },
        "outputId": "29466cce-bb31-4d3a-8d4c-894e6625a081"
      },
      "execution_count": 4,
      "outputs": [
        {
          "output_type": "stream",
          "name": "stdout",
          "text": [
            "Mounted at /content/drive\n"
          ]
        },
        {
          "output_type": "stream",
          "name": "stderr",
          "text": [
            "<ipython-input-4-813b5f48ecb0>:5: FutureWarning: The error_bad_lines argument has been deprecated and will be removed in a future version. Use on_bad_lines in the future.\n",
            "\n",
            "\n",
            "  data = pd.read_csv('/content/drive/MyDrive/flipkart_processed_output.csv', error_bad_lines=False, low_memory=False)\n"
          ]
        }
      ]
    },
    {
      "cell_type": "code",
      "source": [
        "# Convert sentiment labels to numerical format\n",
        "label_mapping = {'Positive': 2, 'Neutral': 1, 'Negative': 0}\n",
        "data['Output'] = data['Output'].map(label_mapping)\n",
        "labels = data['Output'].values\n",
        "\n",
        "# Tokenize text data\n",
        "max_words = 10000\n",
        "max_seq_length = 100\n",
        "tokenizer = Tokenizer(num_words=max_words)\n",
        "tokenizer.fit_on_texts(text_data)\n",
        "sequences = tokenizer.texts_to_sequences(text_data)\n",
        "X = pad_sequences(sequences, maxlen=max_seq_length)\n",
        "\n",
        "# Convert sentiment labels to one-hot encoding\n",
        "num_classes = 3\n",
        "y = to_categorical(labels, num_classes=num_classes)\n",
        "\n",
        "# Split the data into training and testing sets\n",
        "X_train, X_test, y_train, y_test = train_test_split(X, y, test_size=0.2, random_state=42)\n",
        "\n",
        "# Model architecture using RNN\n",
        "model = Sequential()\n",
        "model.add(Embedding(input_dim=max_words, output_dim=100, input_length=max_seq_length))\n",
        "model.add(SimpleRNN(128))  # You can adjust the number of units here\n",
        "model.add(Dense(num_classes, activation='softmax'))\n",
        "\n",
        "# Compile the model\n",
        "model.compile(loss='categorical_crossentropy', optimizer='adam', metrics=['accuracy'])\n",
        "\n",
        "# Train the model\n",
        "model.fit(X_train, y_train, validation_data=(X_test, y_test), epochs=5, batch_size=64)\n",
        "\n",
        "# Evaluate the model on the test set\n",
        "loss, accuracy = model.evaluate(X_test, y_test)\n",
        "print(f\"Test Loss: {loss}\")\n",
        "print(f\"Test Accuracy: {accuracy}\")\n"
      ],
      "metadata": {
        "id": "jRyh6LVwvqTe",
        "colab": {
          "base_uri": "https://localhost:8080/"
        },
        "outputId": "c9a36efa-d08c-4289-e4fa-8f4aac76afe9"
      },
      "execution_count": 5,
      "outputs": [
        {
          "output_type": "stream",
          "name": "stdout",
          "text": [
            "Epoch 1/5\n",
            "2373/2373 [==============================] - 205s 86ms/step - loss: 0.1576 - accuracy: 0.9512 - val_loss: 0.1155 - val_accuracy: 0.9652\n",
            "Epoch 2/5\n",
            "2373/2373 [==============================] - 211s 89ms/step - loss: 0.1087 - accuracy: 0.9673 - val_loss: 0.2258 - val_accuracy: 0.9253\n",
            "Epoch 3/5\n",
            "2373/2373 [==============================] - 213s 90ms/step - loss: 0.1083 - accuracy: 0.9674 - val_loss: 0.1138 - val_accuracy: 0.9674\n",
            "Epoch 4/5\n",
            "2373/2373 [==============================] - 228s 96ms/step - loss: 0.0939 - accuracy: 0.9710 - val_loss: 0.1095 - val_accuracy: 0.9682\n",
            "Epoch 5/5\n",
            "2373/2373 [==============================] - 228s 96ms/step - loss: 0.0746 - accuracy: 0.9769 - val_loss: 0.1098 - val_accuracy: 0.9682\n",
            "1187/1187 [==============================] - 18s 15ms/step - loss: 0.1098 - accuracy: 0.9682\n",
            "Test Loss: 0.10982637107372284\n",
            "Test Accuracy: 0.9681565761566162\n"
          ]
        }
      ]
    },
    {
      "cell_type": "code",
      "source": [],
      "metadata": {
        "id": "Yfj8GRrLsDKn"
      },
      "execution_count": null,
      "outputs": []
    }
  ]
}