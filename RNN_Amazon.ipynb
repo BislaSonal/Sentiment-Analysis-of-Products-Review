{
  "nbformat": 4,
  "nbformat_minor": 0,
  "metadata": {
    "colab": {
      "provenance": []
    },
    "kernelspec": {
      "name": "python3",
      "display_name": "Python 3"
    },
    "language_info": {
      "name": "python"
    }
  },
  "cells": [
    {
      "cell_type": "code",
      "execution_count": 6,
      "metadata": {
        "id": "2cWI5RZxvQ_g",
        "colab": {
          "base_uri": "https://localhost:8080/"
        },
        "outputId": "10b1c589-9b06-417a-c66b-137fcffa5e87"
      },
      "outputs": [
        {
          "output_type": "stream",
          "name": "stderr",
          "text": [
            "[nltk_data] Downloading package stopwords to /root/nltk_data...\n",
            "[nltk_data]   Package stopwords is already up-to-date!\n"
          ]
        }
      ],
      "source": [
        "import pandas as pd\n",
        "import numpy as np\n",
        "from tensorflow.keras.preprocessing.text import Tokenizer\n",
        "from tensorflow.keras.preprocessing.sequence import pad_sequences\n",
        "from tensorflow.keras.models import Sequential\n",
        "from tensorflow.keras.layers import Embedding, SimpleRNN, Dense\n",
        "from tensorflow.keras.utils import to_categorical\n",
        "import nltk\n",
        "import re\n",
        "nltk.download('stopwords')\n",
        "from nltk.corpus import stopwords\n",
        "import string\n",
        "from nltk.stem import SnowballStemmer\n",
        "from sklearn.model_selection import train_test_split"
      ]
    },
    {
      "cell_type": "code",
      "source": [
        "from google.colab import drive\n",
        "drive.mount('/content/drive')\n",
        "\n",
        "# Load data from CSV\n",
        "data = pd.read_csv('/content/drive/MyDrive/amazon_data_refined1.csv', error_bad_lines=False, low_memory=False)\n",
        "\n",
        "# Data preprocessing\n",
        "stemmer = SnowballStemmer(\"english\")\n",
        "stopword = set(stopwords.words('english'))\n",
        "\n",
        "def clean(text):\n",
        "    text = str(text).lower()\n",
        "    text = re.sub('\\[.*?\\]', '', text)\n",
        "    text = re.sub('https?://\\S+|www\\.\\S+', '', text)\n",
        "    text = re.sub('<.*?>+', '', text)\n",
        "    text = re.sub('[%s]' % re.escape(string.punctuation), '', text)\n",
        "    text = re.sub('\\n', '', text)\n",
        "    text = re.sub('\\w*\\d\\w*', '', text)\n",
        "    text = [word for word in text.split(' ') if word not in stopword]\n",
        "    text = \" \".join(text)\n",
        "    text = [stemmer.stem(word) for word in text.split(' ')]\n",
        "    text = \" \".join(text)\n",
        "    return text\n",
        "\n",
        "data['Combined_Text'] = data['Reviews'].astype(str)\n",
        "text_data = data['Combined_Text'].apply(lambda x: str(x)).apply(clean)"
      ],
      "metadata": {
        "id": "U5_rYNp9vUkk",
        "colab": {
          "base_uri": "https://localhost:8080/"
        },
        "outputId": "9098c0f7-4e99-4d5d-d3a1-8019575da302"
      },
      "execution_count": 7,
      "outputs": [
        {
          "output_type": "stream",
          "name": "stdout",
          "text": [
            "Mounted at /content/drive\n"
          ]
        },
        {
          "output_type": "stream",
          "name": "stderr",
          "text": [
            "<ipython-input-7-0ec6ac3781cd>:5: FutureWarning: The error_bad_lines argument has been deprecated and will be removed in a future version. Use on_bad_lines in the future.\n",
            "\n",
            "\n",
            "  data = pd.read_csv('/content/drive/MyDrive/amazon_data_refined1.csv', error_bad_lines=False, low_memory=False)\n"
          ]
        }
      ]
    },
    {
      "cell_type": "code",
      "source": [
        "# Convert sentiment labels to numerical format\n",
        "label_mapping = {'Positive': 2, 'Neutral': 1, 'Negative': 0}\n",
        "data['Output'] = data['Output'].map(label_mapping)\n",
        "labels = data['Output'].values\n",
        "\n",
        "# Tokenize text data\n",
        "max_words = 10000\n",
        "max_seq_length = 100\n",
        "tokenizer = Tokenizer(num_words=max_words)\n",
        "tokenizer.fit_on_texts(text_data)\n",
        "sequences = tokenizer.texts_to_sequences(text_data)\n",
        "X = pad_sequences(sequences, maxlen=max_seq_length)\n",
        "\n",
        "# Convert sentiment labels to one-hot encoding\n",
        "num_classes = 3\n",
        "y = to_categorical(labels, num_classes=num_classes)\n",
        "\n",
        "# Split the data into training and testing sets\n",
        "X_train, X_test, y_train, y_test = train_test_split(X, y, test_size=0.2, random_state=42)\n",
        "\n",
        "# Model architecture using RNN\n",
        "model = Sequential()\n",
        "model.add(Embedding(input_dim=max_words, output_dim=100, input_length=max_seq_length))\n",
        "model.add(SimpleRNN(128))  # You can adjust the number of units here\n",
        "model.add(Dense(num_classes, activation='softmax'))\n",
        "\n",
        "# Compile the model\n",
        "model.compile(loss='categorical_crossentropy', optimizer='adam', metrics=['accuracy'])\n",
        "\n",
        "# Train the model\n",
        "model.fit(X_train, y_train, validation_data=(X_test, y_test), epochs=5, batch_size=64)\n",
        "\n",
        "# Evaluate the model on the test set\n",
        "loss, accuracy = model.evaluate(X_test, y_test)\n",
        "print(f\"Test Loss: {loss}\")\n",
        "print(f\"Test Accuracy: {accuracy}\")"
      ],
      "metadata": {
        "id": "AYMR7X4dvVK9",
        "colab": {
          "base_uri": "https://localhost:8080/"
        },
        "outputId": "580f281f-c661-4271-aaa2-31aa389d5c9c"
      },
      "execution_count": 8,
      "outputs": [
        {
          "output_type": "stream",
          "name": "stdout",
          "text": [
            "Epoch 1/5\n",
            "230/230 [==============================] - 23s 91ms/step - loss: 0.6182 - accuracy: 0.7477 - val_loss: 0.4140 - val_accuracy: 0.8468\n",
            "Epoch 2/5\n",
            "230/230 [==============================] - 22s 95ms/step - loss: 0.2250 - accuracy: 0.9286 - val_loss: 0.2815 - val_accuracy: 0.9064\n",
            "Epoch 3/5\n",
            "230/230 [==============================] - 21s 91ms/step - loss: 0.0926 - accuracy: 0.9735 - val_loss: 0.3165 - val_accuracy: 0.9078\n",
            "Epoch 4/5\n",
            "230/230 [==============================] - 22s 96ms/step - loss: 0.0589 - accuracy: 0.9842 - val_loss: 0.3201 - val_accuracy: 0.9119\n",
            "Epoch 5/5\n",
            "230/230 [==============================] - 20s 89ms/step - loss: 0.0911 - accuracy: 0.9720 - val_loss: 0.3630 - val_accuracy: 0.9026\n",
            "115/115 [==============================] - 2s 14ms/step - loss: 0.3630 - accuracy: 0.9026\n",
            "Test Loss: 0.3629966378211975\n",
            "Test Accuracy: 0.9026115536689758\n"
          ]
        }
      ]
    },
    {
      "cell_type": "code",
      "source": [
        "\n"
      ],
      "metadata": {
        "id": "hK57myjliLQV"
      },
      "execution_count": 5,
      "outputs": []
    }
  ]
}